{
 "cells": [
  {
   "cell_type": "code",
   "execution_count": null,
   "metadata": {},
   "outputs": [],
   "source": [
    "%load_ext autoreload\n",
    "%autoreload 2"
   ]
  },
  {
   "cell_type": "code",
   "execution_count": null,
   "metadata": {},
   "outputs": [],
   "source": [
    "import numpy as np\n",
    "import pandas as pd\n",
    "from cryocat import cryomotl\n",
    "from cryocat import motl_conversions as mc\n",
    "from cryocat import ribana as ra"
   ]
  },
  {
   "cell_type": "code",
   "execution_count": null,
   "metadata": {},
   "outputs": [],
   "source": [
    "import warnings\n",
    "warnings.filterwarnings('ignore')"
   ]
  },
  {
   "cell_type": "code",
   "execution_count": null,
   "metadata": {},
   "outputs": [],
   "source": [
    "motls = np.array([\n",
    "    'j010run_data.star',\n",
    "    'j056run_data.star',\n",
    "    'j066run_data.star',\n",
    "    'j069run_data.star',\n",
    "    'j070run_data.star',\n",
    "    'j076run_data.star',\n",
    "    'j108run_data.star',\n",
    "    'j120run_data.star',\n",
    "    'j449run_data.star',    # the original was 'j122run_data.star',\n",
    "    'j148run_data.star',\n",
    "    'j155run_data.star',\n",
    "    'j166run_data.star',\n",
    "    'j167run_data.star',\n",
    "    'j172run_data.star',\n",
    "    'j961run_data.star',    # the original was 'j196run_data.star'\n",
    "    'j796run_data.star',    # the original was 'j201run_data.star'\n",
    "    'j424run_data.star',\n",
    "    'j627run_data.star'\n",
    "])\n",
    "\n",
    "# Tomo dimensions - same for all tomograms in dataset, bin10 has 410x410x300\n",
    "dim=np.array([[2050,2050,1500]])\n",
    "\n",
    "for m in motls:\n",
    "    input_path='./motls/' + m\n",
    "    output_path='./motls/' + m[:-4] + 'em'\n",
    "    \n",
    "    # Convert relion to motl, pixel size at bin1 is 1.223, bin2 is 2.446\n",
    "    nm=mc.relion2emmotl(input_path,pixel_size=2.446)\n",
    "    \n",
    "    # Handedness flip\n",
    "    nm.flip_handedness(dim)\n",
    "\n",
    "    # Updating centers\n",
    "    nm.update_coordinates()\n",
    "\n",
    "    # Writing out\n",
    "    nm.write_to_emfile(output_path)"
   ]
  },
  {
   "cell_type": "code",
   "execution_count": null,
   "metadata": {},
   "outputs": [],
   "source": [
    "# New classification\n",
    "motls_u = [ './motls/j167run_data.em',      # cl 1\n",
    "            './motls/j166run_data.em',      # cl 2\n",
    "            './motls/j148run_data.em',      # cl 3\n",
    "            './motls/j796run_data.em',      # cl 4\n",
    "            './motls/j172run_data.em',      # cl 5\n",
    "            './motls/j961run_data.em',      # cl 6\n",
    "            './motls/j627run_data.em',      # cl 7\n",
    "            './motls/j155run_data.em']      # cl 8\n",
    "\n",
    "# 108 and 120 (previously classes 10 and 11) were merged into 424 which corresponds to the class 5 now\n",
    "motls_t = [ './motls/j424run_data.em',                  # cl 5 \n",
    "            './motls/j449run_data.em',                  # cl 6\n",
    "            './motls/j076run_data.em',                  # cl 7\n",
    "            './motls/j070run_data.em',                  # cl 8\n",
    "            './motls/j069run_data.em',                  # cl 9\n",
    "            './motls/j066run_data.em']                  # cl 10"
   ]
  },
  {
   "cell_type": "code",
   "execution_count": null,
   "metadata": {},
   "outputs": [],
   "source": [
    "classified_motl_u = ra.assign_class(\n",
    "    './motls/j056run_data_dc40.em', \n",
    "    motls_u, \n",
    "    output_motl = './motl_j056_classified_bin2.em', \n",
    "    starting_class = 1, \n",
    "    dist_threshold = 20,    # in pixels -> 20 * 0.2446, roughly 5nm\n",
    "    unassigned_class = 0)"
   ]
  },
  {
   "cell_type": "code",
   "execution_count": null,
   "metadata": {},
   "outputs": [],
   "source": [
    "classified_motl_t = ra.assign_class(\n",
    "    './motls/j010run_data_dc40.em', \n",
    "    motls_t, \n",
    "    output_motl = './motl_j010_classified_bin2.em', \n",
    "    starting_class = 5, \n",
    "    dist_threshold = 20, \n",
    "    unassigned_class = 0)"
   ]
  },
  {
   "cell_type": "code",
   "execution_count": null,
   "metadata": {},
   "outputs": [],
   "source": [
    "sh_motl_u_entry = cryomotl.Motl.recenter_subparticle(['motl_j056_classified_bin2.em'],['entry_mask_vop_j056_righthand.mrc'],[48])\n",
    "sh_motl_u_exit = cryomotl.Motl.recenter_subparticle(['motl_j056_classified_bin2.em'],['exit_mask_vop_j056_righthand.mrc'],[48])\n",
    "sh_motl_u_entry.write_to_emfile('entry_motl_j056_bin2.em')\n",
    "sh_motl_u_exit.write_to_emfile('exit_motl_j056_bin2.em')\n",
    "\n",
    "sh_motl_t_entry = cryomotl.Motl.recenter_subparticle(['motl_j010_classified_bin2.em'],['entry_mask_vop_j010_righthand.mrc'],[48])\n",
    "sh_motl_t_exit = cryomotl.Motl.recenter_subparticle(['motl_j010_classified_bin2.em'],['exit_mask_vop_j010_righthand.mrc'],[48])\n",
    "sh_motl_t_entry.write_to_emfile('entry_motl_j010_bin2.em')\n",
    "sh_motl_t_exit.write_to_emfile('exit_motl_j010_bin2.em')\n"
   ]
  },
  {
   "cell_type": "code",
   "execution_count": null,
   "metadata": {},
   "outputs": [],
   "source": [
    "motl_entry = 'entry_motl_j056_bin2.em'\n",
    "motl_exit = 'exit_motl_j056_bin2.em'\n",
    "pixel_size = 0.2446 # in nm\n",
    "\n",
    "for i in np.arange(1, 26, 1):\n",
    "\n",
    "    min_d = (i-0.5)/pixel_size \n",
    "    max_d = (i+0.5)/pixel_size \n",
    "    \n",
    "    output_name = './traced_min_max_0.5/tmotl_j056_' + str(i) + 'nm_bin2.em'\n",
    "    ra.trace_chains(motl_entry,motl_exit,max_distance=max_d, min_distance=min_d, output_motl=output_name)\n",
    "\n",
    "motl_entry = 'entry_motl_j010_bin2.em'\n",
    "motl_exit = 'exit_motl_j010_bin2.em'\n",
    "pixel_size = 0.2446 # in nm\n",
    "\n",
    "for i in np.arange(1, 26, 1):\n",
    "\n",
    "    min_d = (i-0.5)/pixel_size \n",
    "    max_d = (i+0.5)/pixel_size \n",
    "    \n",
    "    output_name = './traced_min_max_0.5/tmotl_j010_' + str(i) + 'nm_bin2.em'\n",
    "    ra.trace_chains(motl_entry,motl_exit,max_distance=max_d, min_distance=min_d, output_motl=output_name)"
   ]
  },
  {
   "cell_type": "code",
   "execution_count": null,
   "metadata": {},
   "outputs": [],
   "source": [
    "motl_entry = 'entry_motl_j056_bin2.em'\n",
    "motl_exit = 'exit_motl_j056_bin2.em'\n",
    "pixel_size = 0.2446 # in nm\n",
    "\n",
    "max_distance=9/pixel_size\n",
    "traced_motl=ra.trace_chains(motl_entry,motl_exit,max_distance=max_distance, min_distance=0)\n",
    "traced_motl.df.sort_values(['tomo_id','object_id', 'geom2'], inplace=True)\n",
    "\n",
    "ra.add_occupancy(traced_motl)\n",
    "ra.add_traced_info(traced_motl, motl_entry, 'entry_motl_j056_bin2_tr9nm.em')\n",
    "ra.add_traced_info(traced_motl, motl_exit, 'exit_motl_j056_bin2_tr9nm.em')\n",
    "ra.add_traced_info(traced_motl,'motl_j056_classified_bin2.em', 'motl_j056_classified_bin2_tr9nm.em')\n"
   ]
  },
  {
   "cell_type": "code",
   "execution_count": null,
   "metadata": {},
   "outputs": [],
   "source": [
    "motl_entry = 'entry_motl_j010_bin2.em'\n",
    "motl_exit = 'exit_motl_j010_bin2.em'\n",
    "pixel_size = 0.2446 # in nm\n",
    "\n",
    "max_distance=9/pixel_size\n",
    "traced_motl=ra.trace_chains(motl_entry,motl_exit,max_distance=max_distance, min_distance=0)\n",
    "traced_motl.df.sort_values(['tomo_id','object_id', 'geom2'], inplace=True)\n",
    "\n",
    "ra.add_occupancy(traced_motl)\n",
    "ra.add_traced_info(traced_motl, motl_entry, 'entry_motl_j010_bin2_tr9nm.em')\n",
    "ra.add_traced_info(traced_motl, motl_exit, 'exit_motl_j010_bin2_tr9nm.em')\n",
    "ra.add_traced_info(traced_motl,'motl_j010_classified_bin2.em', 'motl_j010_classified_bin2_tr9nm.em')"
   ]
  }
 ],
 "metadata": {
  "kernelspec": {
   "display_name": "csta2",
   "language": "python",
   "name": "python3"
  },
  "language_info": {
   "codemirror_mode": {
    "name": "ipython",
    "version": 3
   },
   "file_extension": ".py",
   "mimetype": "text/x-python",
   "name": "python",
   "nbconvert_exporter": "python",
   "pygments_lexer": "ipython3",
   "version": "3.9.12"
  },
  "orig_nbformat": 4,
  "vscode": {
   "interpreter": {
    "hash": "4ba2c30b16c9450363fde6b012ae4033279ed9d4c8393054b793b75892329c70"
   }
  }
 },
 "nbformat": 4,
 "nbformat_minor": 2
}
