{
 "cells": [
  {
   "cell_type": "code",
   "execution_count": null,
   "metadata": {},
   "outputs": [],
   "source": [
    "%load_ext autoreload\n",
    "%autoreload 2\n",
    "\n",
    "# Import libraries\n",
    "import mrcfile\n",
    "import napari\n",
    "import os\n",
    "import numpy as np\n",
    "from cryocat import cryomotl\n",
    "from cryocat import cuboid_sampling"
   ]
  },
  {
   "attachments": {},
   "cell_type": "markdown",
   "metadata": {},
   "source": [
    "# Draw contour on Napari\n",
    "In the napari GUI, a new shape layer was created, and the contour was drawn using the \"add polygons\" button.\n",
    "Drawing contours on multiple axes can enhance the accuracy of sampling points on the target surfaces."
   ]
  },
  {
   "cell_type": "code",
   "execution_count": null,
   "metadata": {},
   "outputs": [],
   "source": [
    "mrcfolder = 'Z:\\\\poxvirus\\\\81kx_novaCTF\\\\subtomo\\\\SIRT\\\\'\n",
    "shapefolder = 'Z:\\\\poxvirus\\\\81kx_oversampleNapari\\\\shapes\\\\'"
   ]
  },
  {
   "cell_type": "code",
   "execution_count": null,
   "metadata": {},
   "outputs": [],
   "source": [
    "tomo_num = 40\n",
    "padd_num = str(tomo_num).zfill(3)\n",
    "obj_num = 1\n",
    "sample_distance = 3"
   ]
  },
  {
   "cell_type": "code",
   "execution_count": null,
   "metadata": {},
   "outputs": [],
   "source": [
    "#Initialize the napari viewer:\n",
    "viewer = napari.Viewer()\n",
    "# Load tomogram and add it to the viewer\n",
    "tomo = mrcfile.open(mrcfolder + padd_num + '.mrc')\n",
    "tomo_data = tomo.data\n",
    "viewer.add_image(tomo_data)"
   ]
  },
  {
   "cell_type": "code",
   "execution_count": null,
   "metadata": {},
   "outputs": [],
   "source": [
    "# you could create shapes by creating a new shape layer in the viewer\n",
    "shapes_data=viewer.layers[1].data\n",
    "# save it for future work\n",
    "cuboid_sampling.save_shapes(shapes_data, shapefolder + padd_num +'_'+str(obj_num)+'_shape.csv')"
   ]
  },
  {
   "attachments": {},
   "cell_type": "markdown",
   "metadata": {},
   "source": [
    "# Surface sampling from shapes\n",
    "A list with the same length as the number of shapes could serve as the input for sampling and shifting distances.\n",
    "To exclude both the top and bottom surfaces from oversampling, set tb_dist to 0. Use 1 to exclude the face with a higher z value, or -1 to exclude the face with a smaller z value.\n",
    "Record the shift_dist and tb_dist. This would used for resetting normal."
   ]
  },
  {
   "cell_type": "code",
   "execution_count": null,
   "metadata": {},
   "outputs": [],
   "source": [
    "output_path = 'Z:\\\\poxvirus\\\\81kx_oversampleNapari\\\\motls_mid_sp3\\\\'\n",
    "shapes_path = 'Z:\\\\poxvirus\\\\81kx_oversampleNapari\\\\shapes\\\\'\n",
    "overSample_dist = 3\n",
    "shift_dist = 4\n",
    "tb_dist = 0\n",
    "rm_surface = None"
   ]
  },
  {
   "cell_type": "code",
   "execution_count": null,
   "metadata": {},
   "outputs": [],
   "source": [
    "shapes = os.listdir(shapes_path)\n",
    "for i,name in enumerate(shapes):\n",
    "    tomo_num = int(name[0:3])\n",
    "    obj_num = int(name[4:5])\n",
    "    \n",
    "    if type(overSample_dist) == int:\n",
    "        overSample_dist = overSample_dist\n",
    "    elif type(overSample_dist) == list:\n",
    "        overSample_dist = overSample_dist[i]\n",
    "\n",
    "    if type(shift_dist) == int:\n",
    "        shift_dist = shift_dist\n",
    "    elif type(shift_dist) == list:\n",
    "        shift_dist = shift_dist[i]\n",
    "\n",
    "    if type(tb_dist) == int:\n",
    "        tb_dist = tb_dist\n",
    "    elif type(tb_dist) == list:\n",
    "        tb_dist = tb_dist[i]\n",
    "\n",
    "    shapes_data=cuboid_sampling.load_shapes(shapes_path+name)\n",
    "    pd_points, pd_angles = cuboid_sampling.get_sampling_pandas(shapes_data, overSample_dist, shift_dist, tb_dist, rm_surface)\n",
    "    pd_motl = cryomotl.Motl.create_motl_from_data(tomo_num, obj_num, pd_points, pd_angles, 0, 0)\n",
    "    motl = cryomotl.Motl(pd_motl)\n",
    "    motl.write_to_emfile(output_path + str(tomo_num).zfill(3) + '_' + str(obj_num) + '_motl_sp'+ str(overSample_dist) +'.em')"
   ]
  },
  {
   "attachments": {},
   "cell_type": "markdown",
   "metadata": {},
   "source": [
    "# Reset normal of points"
   ]
  },
  {
   "cell_type": "code",
   "execution_count": null,
   "metadata": {},
   "outputs": [],
   "source": [
    "motlfolder = 'Z:\\\\poxvirus\\\\81kx_oversampleNapari\\\\resetting_normal\\\\dist_clean20_1.em'\n",
    "outfolder = 'Z:\\\\poxvirus\\\\81kx_oversampleNapari\\\\resetting_normal\\\\normReset\\\\dist_clean20_reNorm_1.em'\n",
    "searching_sampDist = 1 # use small sample distance for searching\n",
    "shifting_dist = 4 # shifting_distance for oversample points\n",
    "tb_move = 0 # same as tb_dist in oversampling\n",
    "binFactor = 4 # bin factor between your shape and motl_list\n",
    "\n",
    "motl = cryomotl.Motl.load(motlfolder)\n",
    "tomoObjNum = motl.df.values[:,4:6]\n",
    "uniTomoObjNum = np.unique(tomoObjNum, axis = 0)\n",
    "tomoNum = 0\n",
    "for i in uniTomoObjNum:\n",
    "    lastTomoNum = tomoNum\n",
    "    tomoNum = int(i[0])\n",
    "    objNum = int(i[1])\n",
    "    if tomoNum == lastTomoNum:\n",
    "        shapesObjNum = shapesObjNum+1\n",
    "    else:\n",
    "        shapesObjNum = 1\n",
    "\n",
    "    # find the rows belongs to the shape \n",
    "    isRow = [i[5] == objNum for i in motl.df.values[:]]\n",
    "    df_motl = motl.df.loc[isRow]\n",
    "\n",
    "    # load plygons shapes\n",
    "    shapes_data = cuboid_sampling.load_shapes(shapefolder + str(tomoNum).zfill(3) +'_' + str(shapesObjNum) + '_shape.csv')\n",
    "    # The motl input of reset_normals needed to be match with the shape\n",
    "    df_motl = cuboid_sampling.reset_normals(searching_sampDist, shifting_dist, tb_move, shapes_data, df_motl, binFactor)\n",
    "    \n",
    "    # insert the updated motl back into motl with mutiple tomograms\n",
    "    motl.df.update(df_motl)\n",
    "\n",
    "cryomotl.Motl.write_to_emfile(motl, outfolder)"
   ]
  },
  {
   "attachments": {},
   "cell_type": "markdown",
   "metadata": {},
   "source": [
    "# Calculate surface area\n",
    "You have the option to exclude the top or bottom surfaces from the calculation. If you wish to remove both the top and bottom surfaces, you can set rm_faces_all to 0."
   ]
  },
  {
   "cell_type": "code",
   "execution_count": null,
   "metadata": {},
   "outputs": [],
   "source": [
    "pixel_size = 1.56\n",
    "binning = 8\n",
    "rm_faces_all = 0\n",
    "shapes = os.listdir(shapefolder)\n",
    "np_area = np.eye(len(shapes),3)\n",
    "for n,i in enumerate(shapes):\n",
    "    tomo_num = int(i[0:3])\n",
    "    object_num = int(i[4:5]) # not the same with motl list\n",
    "    padd_num = str(tomo_num).zfill(3)\n",
    "    shapes_data=cuboid_sampling.load_shapes(shapefolder+ padd_num +'_' + str(object_num) + '_shape.csv') \n",
    "    if isinstance(shapes_data, list):\n",
    "        # create array from the list\n",
    "        mask_points=np.concatenate(shapes_data, axis=0 )\n",
    "    else:\n",
    "        mask_points=shapes_data\n",
    "    \n",
    "    if rm_faces_all == 0:\n",
    "        rm_faces = rm_faces_all\n",
    "    else:\n",
    "        rm_faces = rm_faces_all[n]\n",
    "\n",
    "    sur_area = cuboid_sampling.get_surface_area_from_hull(mask_points, rm_faces)*(pixel_size**2)*(binning**2)\n",
    "    np_area[n,0] = tomo_num\n",
    "    np_area[n,1] = object_num\n",
    "    np_area[n,2] = sur_area\n",
    "\n",
    "    np.savetxt('Z:\\\\poxvirus\\\\81kx_oversampleNapari\\\\invitro_area.csv',np_area,delimiter=',')"
   ]
  }
 ],
 "metadata": {
  "kernelspec": {
   "display_name": "geo-env",
   "language": "python",
   "name": "python3"
  },
  "language_info": {
   "codemirror_mode": {
    "name": "ipython",
    "version": 3
   },
   "file_extension": ".py",
   "mimetype": "text/x-python",
   "name": "python",
   "nbconvert_exporter": "python",
   "pygments_lexer": "ipython3",
   "version": "3.9.13"
  },
  "orig_nbformat": 4
 },
 "nbformat": 4,
 "nbformat_minor": 2
}
